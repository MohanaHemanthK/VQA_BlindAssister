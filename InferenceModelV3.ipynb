{
  "cells": [
    {
      "cell_type": "code",
      "execution_count": null,
      "metadata": {
        "colab": {
          "base_uri": "https://localhost:8080/"
        },
        "id": "5ozSTi9kggDF",
        "outputId": "757b1289-99f2-4fbd-f0ff-71dc05c867f9"
      },
      "outputs": [
        {
          "name": "stdout",
          "output_type": "stream",
          "text": [
            "Mounted at /content/drive\n"
          ]
        }
      ],
      "source": [
        "from google.colab import drive\n",
        "drive.mount('/content/drive')"
      ]
    },
    {
      "cell_type": "code",
      "execution_count": null,
      "metadata": {
        "colab": {
          "base_uri": "https://localhost:8080/"
        },
        "id": "AsxXvKndJvSP",
        "outputId": "668bccb3-6f9b-422f-d20b-1caa92a497e0"
      },
      "outputs": [
        {
          "name": "stdout",
          "output_type": "stream",
          "text": [
            "Collecting SpeechRecognition\n",
            "  Downloading SpeechRecognition-3.11.0-py2.py3-none-any.whl.metadata (28 kB)\n",
            "Requirement already satisfied: requests>=2.26.0 in /usr/local/lib/python3.10/dist-packages (from SpeechRecognition) (2.32.3)\n",
            "Requirement already satisfied: typing-extensions in /usr/local/lib/python3.10/dist-packages (from SpeechRecognition) (4.12.2)\n",
            "Requirement already satisfied: charset-normalizer<4,>=2 in /usr/local/lib/python3.10/dist-packages (from requests>=2.26.0->SpeechRecognition) (3.4.0)\n",
            "Requirement already satisfied: idna<4,>=2.5 in /usr/local/lib/python3.10/dist-packages (from requests>=2.26.0->SpeechRecognition) (3.10)\n",
            "Requirement already satisfied: urllib3<3,>=1.21.1 in /usr/local/lib/python3.10/dist-packages (from requests>=2.26.0->SpeechRecognition) (2.2.3)\n",
            "Requirement already satisfied: certifi>=2017.4.17 in /usr/local/lib/python3.10/dist-packages (from requests>=2.26.0->SpeechRecognition) (2024.8.30)\n",
            "Downloading SpeechRecognition-3.11.0-py2.py3-none-any.whl (32.8 MB)\n",
            "\u001b[2K   \u001b[90m━━━━━━━━━━━━━━━━━━━━━━━━━━━━━━━━━━━━━━━━\u001b[0m \u001b[32m32.8/32.8 MB\u001b[0m \u001b[31m60.1 MB/s\u001b[0m eta \u001b[36m0:00:00\u001b[0m\n",
            "\u001b[?25hInstalling collected packages: SpeechRecognition\n",
            "Successfully installed SpeechRecognition-3.11.0\n"
          ]
        }
      ],
      "source": [
        "!pip install SpeechRecognition"
      ]
    },
    {
      "cell_type": "code",
      "execution_count": null,
      "metadata": {
        "colab": {
          "base_uri": "https://localhost:8080/"
        },
        "id": "rPs_H9-GKtPH",
        "outputId": "6e406f72-2932-480d-a61b-842d99133c15"
      },
      "outputs": [
        {
          "name": "stdout",
          "output_type": "stream",
          "text": [
            "Reading package lists... Done\n",
            "Building dependency tree... Done\n",
            "Reading state information... Done\n",
            "Package 'libav-tools' is not installed, so not removed\n",
            "0 upgraded, 0 newly installed, 0 to remove and 49 not upgraded.\n"
          ]
        }
      ],
      "source": [
        "!sudo apt-get remove libav-tools"
      ]
    },
    {
      "cell_type": "code",
      "execution_count": null,
      "metadata": {
        "colab": {
          "base_uri": "https://localhost:8080/"
        },
        "id": "GfWjchGwK0GH",
        "outputId": "3986088d-025e-42ad-8c1e-d80ed611f4fd"
      },
      "outputs": [
        {
          "name": "stdout",
          "output_type": "stream",
          "text": [
            "Reading package lists... Done\n",
            "Building dependency tree... Done\n",
            "Reading state information... Done\n",
            "libasound2-dev is already the newest version (1.2.6.1-1ubuntu1).\n",
            "ffmpeg is already the newest version (7:4.4.2-0ubuntu0.22.04.1).\n",
            "Suggested packages:\n",
            "  portaudio19-doc\n",
            "The following NEW packages will be installed:\n",
            "  libportaudio2 libportaudiocpp0 portaudio19-dev\n",
            "0 upgraded, 3 newly installed, 0 to remove and 49 not upgraded.\n",
            "Need to get 188 kB of archives.\n",
            "After this operation, 927 kB of additional disk space will be used.\n",
            "Get:1 http://archive.ubuntu.com/ubuntu jammy/universe amd64 libportaudio2 amd64 19.6.0-1.1 [65.3 kB]\n",
            "Get:2 http://archive.ubuntu.com/ubuntu jammy/universe amd64 libportaudiocpp0 amd64 19.6.0-1.1 [16.1 kB]\n",
            "Get:3 http://archive.ubuntu.com/ubuntu jammy/universe amd64 portaudio19-dev amd64 19.6.0-1.1 [106 kB]\n",
            "Fetched 188 kB in 1s (210 kB/s)\n",
            "Selecting previously unselected package libportaudio2:amd64.\n",
            "(Reading database ... 123632 files and directories currently installed.)\n",
            "Preparing to unpack .../libportaudio2_19.6.0-1.1_amd64.deb ...\n",
            "Unpacking libportaudio2:amd64 (19.6.0-1.1) ...\n",
            "Selecting previously unselected package libportaudiocpp0:amd64.\n",
            "Preparing to unpack .../libportaudiocpp0_19.6.0-1.1_amd64.deb ...\n",
            "Unpacking libportaudiocpp0:amd64 (19.6.0-1.1) ...\n",
            "Selecting previously unselected package portaudio19-dev:amd64.\n",
            "Preparing to unpack .../portaudio19-dev_19.6.0-1.1_amd64.deb ...\n",
            "Unpacking portaudio19-dev:amd64 (19.6.0-1.1) ...\n",
            "Setting up libportaudio2:amd64 (19.6.0-1.1) ...\n",
            "Setting up libportaudiocpp0:amd64 (19.6.0-1.1) ...\n",
            "Setting up portaudio19-dev:amd64 (19.6.0-1.1) ...\n",
            "Processing triggers for libc-bin (2.35-0ubuntu3.4) ...\n",
            "/sbin/ldconfig.real: /usr/local/lib/libur_adapter_opencl.so.0 is not a symbolic link\n",
            "\n",
            "/sbin/ldconfig.real: /usr/local/lib/libtbbmalloc.so.2 is not a symbolic link\n",
            "\n",
            "/sbin/ldconfig.real: /usr/local/lib/libur_loader.so.0 is not a symbolic link\n",
            "\n",
            "/sbin/ldconfig.real: /usr/local/lib/libtbb.so.12 is not a symbolic link\n",
            "\n",
            "/sbin/ldconfig.real: /usr/local/lib/libur_adapter_level_zero.so.0 is not a symbolic link\n",
            "\n",
            "/sbin/ldconfig.real: /usr/local/lib/libtcm.so.1 is not a symbolic link\n",
            "\n",
            "/sbin/ldconfig.real: /usr/local/lib/libhwloc.so.15 is not a symbolic link\n",
            "\n",
            "/sbin/ldconfig.real: /usr/local/lib/libtbbbind_2_0.so.3 is not a symbolic link\n",
            "\n",
            "/sbin/ldconfig.real: /usr/local/lib/libtbbbind.so.3 is not a symbolic link\n",
            "\n",
            "/sbin/ldconfig.real: /usr/local/lib/libtcm_debug.so.1 is not a symbolic link\n",
            "\n",
            "/sbin/ldconfig.real: /usr/local/lib/libumf.so.0 is not a symbolic link\n",
            "\n",
            "/sbin/ldconfig.real: /usr/local/lib/libtbbmalloc_proxy.so.2 is not a symbolic link\n",
            "\n",
            "/sbin/ldconfig.real: /usr/local/lib/libtbbbind_2_5.so.3 is not a symbolic link\n",
            "\n"
          ]
        }
      ],
      "source": [
        "!apt install libasound2-dev portaudio19-dev libportaudio2 libportaudiocpp0 ffmpeg"
      ]
    },
    {
      "cell_type": "code",
      "execution_count": null,
      "metadata": {
        "colab": {
          "base_uri": "https://localhost:8080/"
        },
        "id": "p5rveVEHJ0B-",
        "outputId": "a9ad0ce2-f6f1-4d05-c23c-c3b434a50b10"
      },
      "outputs": [
        {
          "name": "stdout",
          "output_type": "stream",
          "text": [
            "Collecting pyaudio\n",
            "  Downloading PyAudio-0.2.14.tar.gz (47 kB)\n",
            "\u001b[?25l     \u001b[90m━━━━━━━━━━━━━━━━━━━━━━━━━━━━━━━━━━━━━━━━\u001b[0m \u001b[32m0.0/47.1 kB\u001b[0m \u001b[31m?\u001b[0m eta \u001b[36m-:--:--\u001b[0m\r\u001b[2K     \u001b[90m━━━━━━━━━━━━━━━━━━━━━━━━━━━━━━━━━━━━━━━━\u001b[0m \u001b[32m47.1/47.1 kB\u001b[0m \u001b[31m2.2 MB/s\u001b[0m eta \u001b[36m0:00:00\u001b[0m\n",
            "\u001b[?25h  Installing build dependencies ... \u001b[?25l\u001b[?25hdone\n",
            "  Getting requirements to build wheel ... \u001b[?25l\u001b[?25hdone\n",
            "  Preparing metadata (pyproject.toml) ... \u001b[?25l\u001b[?25hdone\n",
            "Building wheels for collected packages: pyaudio\n",
            "  Building wheel for pyaudio (pyproject.toml) ... \u001b[?25l\u001b[?25hdone\n",
            "  Created wheel for pyaudio: filename=PyAudio-0.2.14-cp310-cp310-linux_x86_64.whl size=63858 sha256=34673a8ff741073faa5d77c5d85f85bf5fc704abb23e54e05bf95dd1fcf4140f\n",
            "  Stored in directory: /root/.cache/pip/wheels/d6/21/f4/0b51d41ba79e51b16295cbb096ec49f334792814d545b508c5\n",
            "Successfully built pyaudio\n",
            "Installing collected packages: pyaudio\n",
            "Successfully installed pyaudio-0.2.14\n"
          ]
        }
      ],
      "source": [
        "!pip install pyaudio soundfile moviepy pydub gtts"
      ]
    },
    {
      "cell_type": "code",
      "execution_count": null,
      "metadata": {
        "id": "6mSZbH2FlLVk"
      },
      "outputs": [],
      "source": [
        "from IPython.display import Javascript, display, Audio\n",
        "from google.colab import output\n",
        "from base64 import b64decode\n",
        "import speech_recognition as sr\n",
        "from io import BytesIO\n",
        "from pydub import AudioSegment\n",
        "import torch\n",
        "from transformers import AutoProcessor, AutoModelForPreTraining\n",
        "from PIL import Image\n",
        "import pickle as pkl\n",
        "import re\n",
        "from gtts import gTTS\n",
        "import ipywidgets as widgets\n",
        "import time"
      ]
    },
    {
      "cell_type": "code",
      "execution_count": null,
      "metadata": {
        "id": "fltH3aP8mB5J"
      },
      "outputs": [],
      "source": [
        "#You can download this trained model and processor file from here\n",
        "#model ==> https://drive.google.com/uc?id=1HD-pE25wsGhbKylGKEKv3TBZadia_4dy&export=download\n",
        "#processor ==> https://drive.google.com/uc?id=1-303tkfqd32yT_01MxTtei7sF-VnMAFh&export=download\n",
        "\n",
        "model = pkl.load(open(\"/content/drive/MyDrive/Hemanth/VQA/model/humanvlm_model.pkl\", \"rb\"))\n",
        "processor = pkl.load(open(\"/content/drive/MyDrive/Hemanth/VQA/model/humanvlm_processor.pkl\", \"rb\"))"
      ]
    },
    {
      "cell_type": "code",
      "execution_count": null,
      "metadata": {
        "id": "S2NlrS_qv9gF"
      },
      "outputs": [],
      "source": [
        "# JavaScript for audio recording\n",
        "RECORD = \"\"\"\n",
        "const sleep = time => new Promise(resolve => setTimeout(resolve, time));\n",
        "const b2text = blob => new Promise(resolve => {\n",
        "  const reader = new FileReader();\n",
        "  reader.onloadend = e => resolve(e.srcElement.result);\n",
        "  reader.readAsDataURL(blob);\n",
        "});\n",
        "var record = time => new Promise(async resolve => {\n",
        "  stream = await navigator.mediaDevices.getUserMedia({ audio: true });\n",
        "  recorder = new MediaRecorder(stream, { mimeType: 'audio/webm' });\n",
        "  chunks = [];\n",
        "  recorder.ondataavailable = e => chunks.push(e.data);\n",
        "  recorder.start();\n",
        "  await sleep(time);\n",
        "  recorder.onstop = async () => {\n",
        "    blob = new Blob(chunks);\n",
        "    text = await b2text(blob);\n",
        "    resolve(text);\n",
        "  };\n",
        "  recorder.stop();\n",
        "});\n",
        "\"\"\"\n",
        "\n",
        "# Function to record speech\n",
        "def record(sec=3):\n",
        "    display(Javascript(RECORD))\n",
        "    s = output.eval_js('record(%d)' % (sec * 1000))\n",
        "    b = b64decode(s.split(',')[1])\n",
        "    audio = AudioSegment.from_file(BytesIO(b), format=\"webm\")\n",
        "    return audio.export(\"temp.wav\", format=\"wav\")\n",
        "\n",
        "def recognize_speech():\n",
        "    print(\"Speak Now...\")\n",
        "    record(3)  # Record for 5 seconds\n",
        "    recognizer = sr.Recognizer()\n",
        "    with sr.AudioFile(\"temp.wav\") as source:\n",
        "        audio = recognizer.record(source)\n",
        "    try:\n",
        "        text = recognizer.recognize_google(audio)\n",
        "        print(f\"You said: {text}\")\n",
        "        return text\n",
        "    except sr.UnknownValueError:\n",
        "        print(\"Could not understand the audio.\")\n",
        "        return \"\"\n",
        "    except sr.RequestError as e:\n",
        "        print(f\"Request error: {e}\")\n",
        "        return \"\"\n"
      ]
    },
    {
      "cell_type": "code",
      "execution_count": null,
      "metadata": {
        "id": "aS1T5x-WwDtO"
      },
      "outputs": [],
      "source": [
        "# Capture image from webcam\n",
        "def take_photo(filename='photo.jpg', quality=0.8):\n",
        "    js = Javascript('''\n",
        "    async function takePhoto(quality) {\n",
        "      const div = document.createElement('div');\n",
        "      const capture = document.createElement('button');\n",
        "      capture.textContent = 'Capture';\n",
        "      div.appendChild(capture);\n",
        "      const video = document.createElement('video');\n",
        "      video.style.display = 'block';\n",
        "      const stream = await navigator.mediaDevices.getUserMedia({video: true});\n",
        "      document.body.appendChild(div);\n",
        "      div.appendChild(video);\n",
        "      video.srcObject = stream;\n",
        "      await video.play();\n",
        "      await new Promise(resolve => capture.onclick = resolve);\n",
        "      const canvas = document.createElement('canvas');\n",
        "      canvas.width = video.videoWidth;\n",
        "      canvas.height = video.videoHeight;\n",
        "      canvas.getContext('2d').drawImage(video, 0, 0);\n",
        "      stream.getTracks().forEach(track => track.stop());\n",
        "      div.remove();\n",
        "      return canvas.toDataURL('image/jpeg', quality);\n",
        "    }\n",
        "    ''')\n",
        "    display(js)\n",
        "    data = output.eval_js('takePhoto({})'.format(quality))\n",
        "    binary = b64decode(data.split(',')[1])\n",
        "    with open(filename, 'wb') as f:\n",
        "        f.write(binary)\n",
        "    return filename"
      ]
    },
    {
      "cell_type": "code",
      "execution_count": null,
      "metadata": {
        "id": "k9dS75dUwGk-"
      },
      "outputs": [],
      "source": [
        "# VQA function\n",
        "def perform_vqa(image_path, question):\n",
        "    # Open the image using PIL\n",
        "    image = Image.open(image_path).convert(\"RGB\")\n",
        "\n",
        "    prompt_style = \"Explain in a simple and less than 10 words.\"\n",
        "    prompt = f\"USER: <image>\\n{question}\\n{prompt_style}\\nASSISTANT:\"\n",
        "    inputs = processor(images=image, text=prompt, return_tensors=\"pt\").to(\"cuda\")\n",
        "\n",
        "    for key in inputs:\n",
        "        if inputs[key].dtype == torch.float32:  # Check if the tensor is a floating-point type\n",
        "            inputs[key] = inputs[key].type(torch.cuda.HalfTensor)\n",
        "\n",
        "    output = model.generate(**inputs, max_new_tokens=15, do_sample=False)\n",
        "    result = processor.decode(output[0], skip_special_tokens=True)\n",
        "\n",
        "    assistant_response = result.split(\"ASSISTANT:\")[1].strip()\n",
        "    first_sentence = re.split(r'[.!?]', assistant_response)[0]  # Split by sentence-ending punctuation\n",
        "    cleaned_response = first_sentence.strip() + \".\"\n",
        "    return cleaned_response\n"
      ]
    },
    {
      "cell_type": "code",
      "execution_count": null,
      "metadata": {
        "id": "VbGr49y_wHFW"
      },
      "outputs": [],
      "source": [
        "# Convert text to speech and play\n",
        "def text_to_speech(text):\n",
        "    tts = gTTS(text=text, lang='en')\n",
        "    tts.save(\"output.mp3\")\n",
        "    return Audio(\"output.mp3\", autoplay=True)\n",
        "\n",
        "# Main interaction loop\n",
        "button = widgets.Button(description=\"Speak\")\n",
        "\n",
        "def on_button_clicked(b):\n",
        "    question = recognize_speech()\n",
        "    if question:\n",
        "        photo_path = take_photo()\n",
        "        answer = perform_vqa(photo_path, question)\n",
        "        print(f\"Assistant's Answer: {answer}\")\n",
        "        display(text_to_speech(answer))"
      ]
    },
    {
      "cell_type": "code",
      "execution_count": null,
      "metadata": {
        "colab": {
          "base_uri": "https://localhost:8080/",
          "height": 650,
          "referenced_widgets": [
            "d69e3dd10e4d4dea912a7855bc99d068",
            "811ad5aaa31c443b8093f8ac83720265",
            "3b7a7668ac3f4f46a6141d2f0ed32198"
          ]
        },
        "id": "d4n2q-mHlBjQ",
        "outputId": "f0b09063-6fe1-4915-8e15-a6e63e09dc35"
      },
      "outputs": [
        {
          "data": {
            "application/vnd.jupyter.widget-view+json": {
              "model_id": "d69e3dd10e4d4dea912a7855bc99d068",
              "version_major": 2,
              "version_minor": 0
            },
            "text/plain": [
              "Button(description='Speak', style=ButtonStyle())"
            ]
          },
          "metadata": {},
          "output_type": "display_data"
        },
        {
          "name": "stdout",
          "output_type": "stream",
          "text": [
            "Speak Now...\n"
          ]
        },
        {
          "data": {
            "application/javascript": "\nconst sleep = time => new Promise(resolve => setTimeout(resolve, time));\nconst b2text = blob => new Promise(resolve => {\n  const reader = new FileReader();\n  reader.onloadend = e => resolve(e.srcElement.result);\n  reader.readAsDataURL(blob);\n});\nvar record = time => new Promise(async resolve => {\n  stream = await navigator.mediaDevices.getUserMedia({ audio: true });\n  recorder = new MediaRecorder(stream, { mimeType: 'audio/webm' });\n  chunks = [];\n  recorder.ondataavailable = e => chunks.push(e.data);\n  recorder.start();\n  await sleep(time);\n  recorder.onstop = async () => {\n    blob = new Blob(chunks);\n    text = await b2text(blob);\n    resolve(text);\n  };\n  recorder.stop();\n});\n",
            "text/plain": [
              "<IPython.core.display.Javascript object>"
            ]
          },
          "metadata": {},
          "output_type": "display_data"
        },
        {
          "name": "stdout",
          "output_type": "stream",
          "text": [
            "You said: does\n"
          ]
        },
        {
          "data": {
            "application/javascript": "\n    async function takePhoto(quality) {\n      const div = document.createElement('div');\n      const capture = document.createElement('button');\n      capture.textContent = 'Capture';\n      div.appendChild(capture);\n      const video = document.createElement('video');\n      video.style.display = 'block';\n      const stream = await navigator.mediaDevices.getUserMedia({video: true});\n      document.body.appendChild(div);\n      div.appendChild(video);\n      video.srcObject = stream;\n      await video.play();\n      await new Promise(resolve => capture.onclick = resolve);\n      const canvas = document.createElement('canvas');\n      canvas.width = video.videoWidth;\n      canvas.height = video.videoHeight;\n      canvas.getContext('2d').drawImage(video, 0, 0);\n      stream.getTracks().forEach(track => track.stop());\n      div.remove();\n      return canvas.toDataURL('image/jpeg', quality);\n    }\n    ",
            "text/plain": [
              "<IPython.core.display.Javascript object>"
            ]
          },
          "metadata": {},
          "output_type": "display_data"
        },
        {
          "name": "stderr",
          "output_type": "stream",
          "text": [
            "Expanding inputs for image tokens in LLaVa should be done in processing. Please add `patch_size` and `vision_feature_select_strategy` to the model's processing config or set directly with `processor.patch_size = {{patch_size}}` and processor.vision_feature_select_strategy = {{vision_feature_select_strategy}}`. Using processors without these attributes in the config is deprecated and will throw an error in v4.47.\n",
            "Setting `pad_token_id` to `eos_token_id`:None for open-end generation.\n",
            "Expanding inputs for image tokens in LLaVa should be done in processing. Please add `patch_size` and `vision_feature_select_strategy` to the model's processing config or set directly with `processor.patch_size = {{patch_size}}` and processor.vision_feature_select_strategy = {{vision_feature_select_strategy}}`. Using processors without these attributes in the config is deprecated and will throw an error in v4.47.\n"
          ]
        },
        {
          "name": "stdout",
          "output_type": "stream",
          "text": [
            "Assistant's Answer: The man is wearing a black jacket.\n"
          ]
        },
        {
          "data": {
            "text/html": [
              "\n",
              "                <audio  controls=\"controls\" autoplay=\"autoplay\">\n",
              "                    <source src=\"data:audio/mpeg;base64,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\" type=\"audio/mpeg\" />\n",
              "                    Your browser does not support the audio element.\n",
              "                </audio>\n",
              "              "
            ],
            "text/plain": [
              "<IPython.lib.display.Audio object>"
            ]
          },
          "metadata": {},
          "output_type": "display_data"
        },
        {
          "name": "stdout",
          "output_type": "stream",
          "text": [
            "Speak Now...\n"
          ]
        },
        {
          "data": {
            "application/javascript": "\nconst sleep = time => new Promise(resolve => setTimeout(resolve, time));\nconst b2text = blob => new Promise(resolve => {\n  const reader = new FileReader();\n  reader.onloadend = e => resolve(e.srcElement.result);\n  reader.readAsDataURL(blob);\n});\nvar record = time => new Promise(async resolve => {\n  stream = await navigator.mediaDevices.getUserMedia({ audio: true });\n  recorder = new MediaRecorder(stream, { mimeType: 'audio/webm' });\n  chunks = [];\n  recorder.ondataavailable = e => chunks.push(e.data);\n  recorder.start();\n  await sleep(time);\n  recorder.onstop = async () => {\n    blob = new Blob(chunks);\n    text = await b2text(blob);\n    resolve(text);\n  };\n  recorder.stop();\n});\n",
            "text/plain": [
              "<IPython.core.display.Javascript object>"
            ]
          },
          "metadata": {},
          "output_type": "display_data"
        },
        {
          "name": "stdout",
          "output_type": "stream",
          "text": [
            "Could not understand the audio.\n",
            "Speak Now...\n"
          ]
        },
        {
          "data": {
            "application/javascript": "\nconst sleep = time => new Promise(resolve => setTimeout(resolve, time));\nconst b2text = blob => new Promise(resolve => {\n  const reader = new FileReader();\n  reader.onloadend = e => resolve(e.srcElement.result);\n  reader.readAsDataURL(blob);\n});\nvar record = time => new Promise(async resolve => {\n  stream = await navigator.mediaDevices.getUserMedia({ audio: true });\n  recorder = new MediaRecorder(stream, { mimeType: 'audio/webm' });\n  chunks = [];\n  recorder.ondataavailable = e => chunks.push(e.data);\n  recorder.start();\n  await sleep(time);\n  recorder.onstop = async () => {\n    blob = new Blob(chunks);\n    text = await b2text(blob);\n    resolve(text);\n  };\n  recorder.stop();\n});\n",
            "text/plain": [
              "<IPython.core.display.Javascript object>"
            ]
          },
          "metadata": {},
          "output_type": "display_data"
        },
        {
          "name": "stdout",
          "output_type": "stream",
          "text": [
            "You said: what's written on this month\n"
          ]
        },
        {
          "data": {
            "application/javascript": "\n    async function takePhoto(quality) {\n      const div = document.createElement('div');\n      const capture = document.createElement('button');\n      capture.textContent = 'Capture';\n      div.appendChild(capture);\n      const video = document.createElement('video');\n      video.style.display = 'block';\n      const stream = await navigator.mediaDevices.getUserMedia({video: true});\n      document.body.appendChild(div);\n      div.appendChild(video);\n      video.srcObject = stream;\n      await video.play();\n      await new Promise(resolve => capture.onclick = resolve);\n      const canvas = document.createElement('canvas');\n      canvas.width = video.videoWidth;\n      canvas.height = video.videoHeight;\n      canvas.getContext('2d').drawImage(video, 0, 0);\n      stream.getTracks().forEach(track => track.stop());\n      div.remove();\n      return canvas.toDataURL('image/jpeg', quality);\n    }\n    ",
            "text/plain": [
              "<IPython.core.display.Javascript object>"
            ]
          },
          "metadata": {},
          "output_type": "display_data"
        },
        {
          "name": "stderr",
          "output_type": "stream",
          "text": [
            "Setting `pad_token_id` to `eos_token_id`:None for open-end generation.\n"
          ]
        },
        {
          "name": "stdout",
          "output_type": "stream",
          "text": [
            "Assistant's Answer: The word \"beautiful\" is written on the mug.\n"
          ]
        },
        {
          "data": {
            "text/html": [
              "\n",
              "                <audio  controls=\"controls\" autoplay=\"autoplay\">\n",
              "                    <source src=\"data:audio/mpeg;base64,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\" type=\"audio/mpeg\" />\n",
              "                    Your browser does not support the audio element.\n",
              "                </audio>\n",
              "              "
            ],
            "text/plain": [
              "<IPython.lib.display.Audio object>"
            ]
          },
          "metadata": {},
          "output_type": "display_data"
        },
        {
          "name": "stdout",
          "output_type": "stream",
          "text": [
            "Speak Now...\n"
          ]
        },
        {
          "data": {
            "application/javascript": "\nconst sleep = time => new Promise(resolve => setTimeout(resolve, time));\nconst b2text = blob => new Promise(resolve => {\n  const reader = new FileReader();\n  reader.onloadend = e => resolve(e.srcElement.result);\n  reader.readAsDataURL(blob);\n});\nvar record = time => new Promise(async resolve => {\n  stream = await navigator.mediaDevices.getUserMedia({ audio: true });\n  recorder = new MediaRecorder(stream, { mimeType: 'audio/webm' });\n  chunks = [];\n  recorder.ondataavailable = e => chunks.push(e.data);\n  recorder.start();\n  await sleep(time);\n  recorder.onstop = async () => {\n    blob = new Blob(chunks);\n    text = await b2text(blob);\n    resolve(text);\n  };\n  recorder.stop();\n});\n",
            "text/plain": [
              "<IPython.core.display.Javascript object>"
            ]
          },
          "metadata": {},
          "output_type": "display_data"
        },
        {
          "name": "stdout",
          "output_type": "stream",
          "text": [
            "You said: what denomination is this\n"
          ]
        },
        {
          "data": {
            "application/javascript": "\n    async function takePhoto(quality) {\n      const div = document.createElement('div');\n      const capture = document.createElement('button');\n      capture.textContent = 'Capture';\n      div.appendChild(capture);\n      const video = document.createElement('video');\n      video.style.display = 'block';\n      const stream = await navigator.mediaDevices.getUserMedia({video: true});\n      document.body.appendChild(div);\n      div.appendChild(video);\n      video.srcObject = stream;\n      await video.play();\n      await new Promise(resolve => capture.onclick = resolve);\n      const canvas = document.createElement('canvas');\n      canvas.width = video.videoWidth;\n      canvas.height = video.videoHeight;\n      canvas.getContext('2d').drawImage(video, 0, 0);\n      stream.getTracks().forEach(track => track.stop());\n      div.remove();\n      return canvas.toDataURL('image/jpeg', quality);\n    }\n    ",
            "text/plain": [
              "<IPython.core.display.Javascript object>"
            ]
          },
          "metadata": {},
          "output_type": "display_data"
        },
        {
          "name": "stderr",
          "output_type": "stream",
          "text": [
            "Setting `pad_token_id` to `eos_token_id`:None for open-end generation.\n"
          ]
        },
        {
          "name": "stdout",
          "output_type": "stream",
          "text": [
            "Assistant's Answer: The bill is a $1.\n"
          ]
        },
        {
          "data": {
            "text/html": [
              "\n",
              "                <audio  controls=\"controls\" autoplay=\"autoplay\">\n",
              "                    <source src=\"data:audio/mpeg;base64,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\" type=\"audio/mpeg\" />\n",
              "                    Your browser does not support the audio element.\n",
              "                </audio>\n",
              "              "
            ],
            "text/plain": [
              "<IPython.lib.display.Audio object>"
            ]
          },
          "metadata": {},
          "output_type": "display_data"
        },
        {
          "name": "stdout",
          "output_type": "stream",
          "text": [
            "Speak Now...\n"
          ]
        },
        {
          "data": {
            "application/javascript": "\nconst sleep = time => new Promise(resolve => setTimeout(resolve, time));\nconst b2text = blob => new Promise(resolve => {\n  const reader = new FileReader();\n  reader.onloadend = e => resolve(e.srcElement.result);\n  reader.readAsDataURL(blob);\n});\nvar record = time => new Promise(async resolve => {\n  stream = await navigator.mediaDevices.getUserMedia({ audio: true });\n  recorder = new MediaRecorder(stream, { mimeType: 'audio/webm' });\n  chunks = [];\n  recorder.ondataavailable = e => chunks.push(e.data);\n  recorder.start();\n  await sleep(time);\n  recorder.onstop = async () => {\n    blob = new Blob(chunks);\n    text = await b2text(blob);\n    resolve(text);\n  };\n  recorder.stop();\n});\n",
            "text/plain": [
              "<IPython.core.display.Javascript object>"
            ]
          },
          "metadata": {},
          "output_type": "display_data"
        },
        {
          "name": "stdout",
          "output_type": "stream",
          "text": [
            "You said: what's that symbol\n"
          ]
        },
        {
          "data": {
            "application/javascript": "\n    async function takePhoto(quality) {\n      const div = document.createElement('div');\n      const capture = document.createElement('button');\n      capture.textContent = 'Capture';\n      div.appendChild(capture);\n      const video = document.createElement('video');\n      video.style.display = 'block';\n      const stream = await navigator.mediaDevices.getUserMedia({video: true});\n      document.body.appendChild(div);\n      div.appendChild(video);\n      video.srcObject = stream;\n      await video.play();\n      await new Promise(resolve => capture.onclick = resolve);\n      const canvas = document.createElement('canvas');\n      canvas.width = video.videoWidth;\n      canvas.height = video.videoHeight;\n      canvas.getContext('2d').drawImage(video, 0, 0);\n      stream.getTracks().forEach(track => track.stop());\n      div.remove();\n      return canvas.toDataURL('image/jpeg', quality);\n    }\n    ",
            "text/plain": [
              "<IPython.core.display.Javascript object>"
            ]
          },
          "metadata": {},
          "output_type": "display_data"
        },
        {
          "name": "stderr",
          "output_type": "stream",
          "text": [
            "Setting `pad_token_id` to `eos_token_id`:None for open-end generation.\n"
          ]
        },
        {
          "name": "stdout",
          "output_type": "stream",
          "text": [
            "Assistant's Answer: The symbol is a bull's head.\n"
          ]
        },
        {
          "data": {
            "text/html": [
              "\n",
              "                <audio  controls=\"controls\" autoplay=\"autoplay\">\n",
              "                    <source src=\"data:audio/mpeg;base64,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\" type=\"audio/mpeg\" />\n",
              "                    Your browser does not support the audio element.\n",
              "                </audio>\n",
              "              "
            ],
            "text/plain": [
              "<IPython.lib.display.Audio object>"
            ]
          },
          "metadata": {},
          "output_type": "display_data"
        }
      ],
      "source": [
        "button.on_click(on_button_clicked)\n",
        "display(button)"
      ]
    }
  ],
  "metadata": {
    "accelerator": "GPU",
    "colab": {
      "gpuType": "A100",
      "machine_shape": "hm",
      "provenance": []
    },
    "kernelspec": {
      "display_name": "Python 3",
      "language": "python",
      "name": "python3"
    },
    "language_info": {
      "name": "python",
      "version": "3.10.11 (tags/v3.10.11:7d4cc5a, Apr  5 2023, 00:38:17) [MSC v.1929 64 bit (AMD64)]"
    },
    "vscode": {
      "interpreter": {
        "hash": "35f484f31275f4869d1fd8f5fdc783c01bd51ae39c1048fb5ff944e5a08fcfc5"
      }
    },
    "widgets": {
      "application/vnd.jupyter.widget-state+json": {
        "3b7a7668ac3f4f46a6141d2f0ed32198": {
          "model_module": "@jupyter-widgets/controls",
          "model_module_version": "1.5.0",
          "model_name": "ButtonStyleModel",
          "state": {
            "_model_module": "@jupyter-widgets/controls",
            "_model_module_version": "1.5.0",
            "_model_name": "ButtonStyleModel",
            "_view_count": null,
            "_view_module": "@jupyter-widgets/base",
            "_view_module_version": "1.2.0",
            "_view_name": "StyleView",
            "button_color": null,
            "font_weight": ""
          }
        },
        "811ad5aaa31c443b8093f8ac83720265": {
          "model_module": "@jupyter-widgets/base",
          "model_module_version": "1.2.0",
          "model_name": "LayoutModel",
          "state": {
            "_model_module": "@jupyter-widgets/base",
            "_model_module_version": "1.2.0",
            "_model_name": "LayoutModel",
            "_view_count": null,
            "_view_module": "@jupyter-widgets/base",
            "_view_module_version": "1.2.0",
            "_view_name": "LayoutView",
            "align_content": null,
            "align_items": null,
            "align_self": null,
            "border": null,
            "bottom": null,
            "display": null,
            "flex": null,
            "flex_flow": null,
            "grid_area": null,
            "grid_auto_columns": null,
            "grid_auto_flow": null,
            "grid_auto_rows": null,
            "grid_column": null,
            "grid_gap": null,
            "grid_row": null,
            "grid_template_areas": null,
            "grid_template_columns": null,
            "grid_template_rows": null,
            "height": null,
            "justify_content": null,
            "justify_items": null,
            "left": null,
            "margin": null,
            "max_height": null,
            "max_width": null,
            "min_height": null,
            "min_width": null,
            "object_fit": null,
            "object_position": null,
            "order": null,
            "overflow": null,
            "overflow_x": null,
            "overflow_y": null,
            "padding": null,
            "right": null,
            "top": null,
            "visibility": null,
            "width": null
          }
        },
        "d69e3dd10e4d4dea912a7855bc99d068": {
          "model_module": "@jupyter-widgets/controls",
          "model_module_version": "1.5.0",
          "model_name": "ButtonModel",
          "state": {
            "_dom_classes": [],
            "_model_module": "@jupyter-widgets/controls",
            "_model_module_version": "1.5.0",
            "_model_name": "ButtonModel",
            "_view_count": null,
            "_view_module": "@jupyter-widgets/controls",
            "_view_module_version": "1.5.0",
            "_view_name": "ButtonView",
            "button_style": "",
            "description": "Speak",
            "disabled": false,
            "icon": "",
            "layout": "IPY_MODEL_811ad5aaa31c443b8093f8ac83720265",
            "style": "IPY_MODEL_3b7a7668ac3f4f46a6141d2f0ed32198",
            "tooltip": ""
          }
        }
      }
    }
  },
  "nbformat": 4,
  "nbformat_minor": 0
}
